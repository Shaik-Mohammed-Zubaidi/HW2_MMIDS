{
  "nbformat": 4,
  "nbformat_minor": 0,
  "metadata": {
    "colab": {
      "provenance": [],
      "collapsed_sections": [
        "IsKShI8PIVwV",
        "2F09TsqxIZaM",
        "Noy2jvmbIbgB",
        "eKDRUIpFIea_",
        "PkorllSwHewd",
        "RnMvCjVgNinC",
        "d3rdZBtNNsUY"
      ],
      "gpuType": "T4"
    },
    "kernelspec": {
      "name": "python3",
      "display_name": "Python 3"
    },
    "language_info": {
      "name": "python"
    },
    "accelerator": "GPU"
  },
  "cells": [
    {
      "cell_type": "markdown",
      "source": [
        "# Data Generation"
      ],
      "metadata": {
        "id": "IsKShI8PIVwV"
      }
    },
    {
      "cell_type": "markdown",
      "source": [
        "Data is generated and made sure balance is maintained as said in instructions"
      ],
      "metadata": {
        "id": "9AZG9MgBJUpl"
      }
    },
    {
      "cell_type": "code",
      "execution_count": 1,
      "metadata": {
        "colab": {
          "base_uri": "https://localhost:8080/"
        },
        "id": "YnF479P_8A8X",
        "outputId": "407603db-7383-4978-9acc-04967fa70217"
      },
      "outputs": [
        {
          "output_type": "stream",
          "name": "stdout",
          "text": [
            "          a         b         c  d\n",
            "0  0.523735  4.708009 -5.013388  0\n",
            "1  8.457426  5.549526 -1.563096  0\n",
            "2 -4.152092 -5.796070  7.327276  0\n",
            "3  9.844041  7.677921  4.633238  1\n",
            "4 -2.642806  3.581457  2.091922  0\n",
            "\n",
            "Class Distribution:\n",
            "d\n",
            "0    0.606775\n",
            "1    0.393225\n",
            "Name: proportion, dtype: float64\n"
          ]
        }
      ],
      "source": [
        "import numpy as np\n",
        "import pandas as pd\n",
        "\n",
        "# Set the number of elements\n",
        "num_samples = 40000\n",
        "\n",
        "# Generate random values for a, b, and c within different ranges\n",
        "a = np.random.uniform(-10, 10, num_samples)\n",
        "b = np.random.uniform(-8, 8, num_samples)\n",
        "c = np.random.uniform(-9, 9, num_samples)\n",
        "\n",
        "# Compute the discriminant\n",
        "D = b**2 - 4*a*c\n",
        "\n",
        "# Assign d based on the rule\n",
        "d = (D < 0).astype(int)\n",
        "\n",
        "# Ensure balance between 20% to 40% of ones\n",
        "ones_ratio = np.mean(d)\n",
        "while ones_ratio < 0.2 or ones_ratio > 0.4:\n",
        "    a = np.random.uniform(-10, 10, num_samples)\n",
        "    b = np.random.uniform(-8, 8, num_samples)\n",
        "    c = np.random.uniform(-9, 9, num_samples)\n",
        "    D = b**2 - 4*a*c\n",
        "    d = (D < 0).astype(int)\n",
        "    ones_ratio = np.mean(d)\n",
        "\n",
        "# Create DataFrame\n",
        "df = pd.DataFrame({'a': a, 'b': b, 'c': c, 'd': d})\n",
        "\n",
        "# Save to CSV\n",
        "df.to_csv('generated_data.csv', index=False)\n",
        "\n",
        "# Display dataset information\n",
        "print(df.head())\n",
        "print(\"\\nClass Distribution:\")\n",
        "print(df['d'].value_counts(normalize=True))"
      ]
    },
    {
      "cell_type": "markdown",
      "source": [
        "# Decision Tree"
      ],
      "metadata": {
        "id": "2F09TsqxIZaM"
      }
    },
    {
      "cell_type": "markdown",
      "source": [
        "The Decision Tree model is a classification algorithm that recursively splits data based on feature values. We tested three configurations: (1) the default model, achieving **0.9814 accuracy**, (2) a model with `max_depth=15` and `min_samples_leaf=5` to improve generalization (**0.9806 accuracy**), and (3) a model using `entropy` as the splitting criterion with `max_depth=10`, balancing performance and interpretability (**0.9809 accuracy**)."
      ],
      "metadata": {
        "id": "NKqQmJWrJNpJ"
      }
    },
    {
      "cell_type": "code",
      "source": [
        "from sklearn.model_selection import train_test_split\n",
        "from sklearn.tree import DecisionTreeClassifier\n",
        "from sklearn.metrics import accuracy_score\n",
        "\n",
        "# Split data into training and testing sets\n",
        "X = df[['a', 'b', 'c']]\n",
        "y = df['d']\n",
        "X_train, X_test, y_train, y_test = train_test_split(X, y, test_size=0.2, random_state=42)\n",
        "\n",
        "# Train Decision Tree model\n",
        "clf_dt1 = DecisionTreeClassifier()\n",
        "clf_dt1.fit(X_train, y_train)\n",
        "\n",
        "# Make predictions\n",
        "y_pred = clf_dt1.predict(X_test)\n",
        "\n",
        "# Evaluate model\n",
        "accuracy = accuracy_score(y_test, y_pred)\n",
        "print(f\"Decision Tree Model 1 Accuracy: {accuracy:.4f}\")"
      ],
      "metadata": {
        "colab": {
          "base_uri": "https://localhost:8080/"
        },
        "id": "X8QD7tfyF2KL",
        "outputId": "b0c0b6fd-9615-4f11-96b8-e8c04e07519a"
      },
      "execution_count": 2,
      "outputs": [
        {
          "output_type": "stream",
          "name": "stdout",
          "text": [
            "Decision Tree Model 1 Accuracy: 0.9841\n"
          ]
        }
      ]
    },
    {
      "cell_type": "code",
      "source": [
        "# Variation 3: Increased max_depth and min_samples_leaf\n",
        "clf_dt2 = DecisionTreeClassifier(max_depth=15, min_samples_leaf=5, random_state=42)\n",
        "clf_dt2.fit(X_train, y_train)\n",
        "# Make predictions\n",
        "y_pred = clf_dt2.predict(X_test)\n",
        "\n",
        "# Evaluate model\n",
        "accuracy = accuracy_score(y_test, y_pred)\n",
        "print(f\"Decision Tree Model 2 Accuracy: {accuracy:.4f}\")\n",
        "\n",
        "# Variation 4: Using entropy as the criterion\n",
        "clf_dt3 = DecisionTreeClassifier(criterion='entropy', max_depth=10, random_state=42)\n",
        "clf_dt3.fit(X_train, y_train)\n",
        "# Make predictions\n",
        "y_pred = clf_dt3.predict(X_test)\n",
        "\n",
        "# Evaluate model\n",
        "accuracy = accuracy_score(y_test, y_pred)\n",
        "print(f\"Decision Tree Model 3 Accuracy: {accuracy:.4f}\")\n"
      ],
      "metadata": {
        "colab": {
          "base_uri": "https://localhost:8080/"
        },
        "id": "v4Hh3VHAg5ou",
        "outputId": "da1ce655-ff24-46cf-c763-769d3d35db69"
      },
      "execution_count": 3,
      "outputs": [
        {
          "output_type": "stream",
          "name": "stdout",
          "text": [
            "Decision Tree Model 2 Accuracy: 0.9828\n",
            "Decision Tree Model 3 Accuracy: 0.9790\n"
          ]
        }
      ]
    },
    {
      "cell_type": "markdown",
      "source": [
        "# Logistic Regression"
      ],
      "metadata": {
        "id": "Noy2jvmbIbgB"
      }
    },
    {
      "cell_type": "markdown",
      "source": [
        "Logistic Regression is a linear model used for classification by estimating probabilities. We tested three variations: (1) the default model, achieving **0.5904 accuracy**, (2) a model with an L1 penalty (`C=0.5`) for feature selection (**0.5904 accuracy**), and (3) a model with stronger L2 regularization (`C=0.1`) to reduce overfitting (**0.5904 accuracy**)."
      ],
      "metadata": {
        "id": "aE6yRGphJFew"
      }
    },
    {
      "cell_type": "code",
      "source": [
        "from sklearn.linear_model import LogisticRegression\n",
        "\n",
        "# Train Logistic Regression model\n",
        "clf_lr1 = LogisticRegression()\n",
        "clf_lr1.fit(X_train, y_train)\n",
        "\n",
        "# Make predictions with Logistic Regression\n",
        "y_pred_logistic = clf_lr1.predict(X_test)\n",
        "\n",
        "# Evaluate Logistic Regression model\n",
        "accuracy_logistic = accuracy_score(y_test, y_pred_logistic)\n",
        "print(f\"Logistic Regression Model 1 Accuracy: {accuracy_logistic:.4f}\")"
      ],
      "metadata": {
        "colab": {
          "base_uri": "https://localhost:8080/"
        },
        "id": "gD3-8Z1_F95z",
        "outputId": "8c98da9d-8907-48eb-ca49-b3b09a00b820"
      },
      "execution_count": 4,
      "outputs": [
        {
          "output_type": "stream",
          "name": "stdout",
          "text": [
            "Logistic Regression Model 1 Accuracy: 0.6085\n"
          ]
        }
      ]
    },
    {
      "cell_type": "code",
      "source": [
        "# Variation 3: Using L1 penalty\n",
        "clf_lr2 = LogisticRegression(penalty='l1', solver='liblinear', C=0.5, random_state=42)\n",
        "clf_lr2.fit(X_train, y_train)\n",
        "\n",
        "# Make predictions with Logistic Regression\n",
        "y_pred_logistic = clf_lr2.predict(X_test)\n",
        "\n",
        "# Evaluate Logistic Regression model\n",
        "accuracy_logistic = accuracy_score(y_test, y_pred_logistic)\n",
        "print(f\"Logistic Regression Model 2 Accuracy: {accuracy_logistic:.4f}\")\n",
        "\n",
        "# Variation 4: Increased regularization (lower C value)\n",
        "clf_lr3 = LogisticRegression(penalty='l2', C=0.1, random_state=42)\n",
        "clf_lr3.fit(X_train, y_train)\n",
        "\n",
        "# Make predictions with Logistic Regression\n",
        "y_pred_logistic = clf_lr3.predict(X_test)\n",
        "\n",
        "# Evaluate Logistic Regression model\n",
        "accuracy_logistic = accuracy_score(y_test, y_pred_logistic)\n",
        "print(f\"Logistic Regression Model 3 Accuracy: {accuracy_logistic:.4f}\")\n"
      ],
      "metadata": {
        "colab": {
          "base_uri": "https://localhost:8080/"
        },
        "id": "tTuSEVe4hdCm",
        "outputId": "91062956-5710-4e7c-c741-fc4fc06deb3d"
      },
      "execution_count": 5,
      "outputs": [
        {
          "output_type": "stream",
          "name": "stdout",
          "text": [
            "Logistic Regression Model 2 Accuracy: 0.6085\n",
            "Logistic Regression Model 3 Accuracy: 0.6085\n"
          ]
        }
      ]
    },
    {
      "cell_type": "markdown",
      "source": [
        "# Random Forest"
      ],
      "metadata": {
        "id": "eKDRUIpFIea_"
      }
    },
    {
      "cell_type": "markdown",
      "source": [
        "Random Forest is an ensemble learning method that builds multiple decision trees to improve classification performance. We tested three variations: (1) the default model with **100 trees**, achieving **0.9899 accuracy**, (2) an enhanced model with **300 trees and deeper trees**, slightly improving accuracy to **0.9901**, and (3) a more constrained model with **200 trees, shallower depth, and stricter split conditions**, leading to a slight drop in accuracy (**0.9866**)."
      ],
      "metadata": {
        "id": "5ubvOvySI-aK"
      }
    },
    {
      "cell_type": "code",
      "source": [
        "from sklearn.ensemble import RandomForestClassifier\n",
        "\n",
        "# Train Random Forest model\n",
        "clf_rf1 = RandomForestClassifier(n_estimators=100, random_state=42)\n",
        "clf_rf1.fit(X_train, y_train)\n",
        "\n",
        "# Make predictions with Random Forest\n",
        "y_pred_rf = clf_rf1.predict(X_test)\n",
        "\n",
        "# Evaluate Random Forest model\n",
        "accuracy_rf = accuracy_score(y_test, y_pred_rf)\n",
        "print(f\"Random Forest Model 1 Accuracy: {accuracy_rf:.4f}\")\n"
      ],
      "metadata": {
        "colab": {
          "base_uri": "https://localhost:8080/"
        },
        "id": "mA4tYmH5GZrb",
        "outputId": "93a47084-3153-4cb8-a219-c302546f790a"
      },
      "execution_count": 6,
      "outputs": [
        {
          "output_type": "stream",
          "name": "stdout",
          "text": [
            "Random Forest Model 1 Accuracy: 0.9908\n"
          ]
        }
      ]
    },
    {
      "cell_type": "code",
      "source": [
        "# Variation 3: More trees, deeper trees\n",
        "clf_rf2 = RandomForestClassifier(n_estimators=300, max_depth=20, random_state=42)\n",
        "clf_rf2.fit(X_train, y_train)\n",
        "\n",
        "# Make predictions with Random Forest\n",
        "y_pred_rf = clf_rf2.predict(X_test)\n",
        "\n",
        "# Evaluate Random Forest model\n",
        "accuracy_rf = accuracy_score(y_test, y_pred_rf)\n",
        "print(f\"Random Forest Model 2 Accuracy: {accuracy_rf:.4f}\")\n",
        "\n",
        "# Variation 4: Lower max depth, higher min_samples_split\n",
        "clf_rf3 = RandomForestClassifier(n_estimators=200, max_depth=10, min_samples_split=10, random_state=42)\n",
        "clf_rf3.fit(X_train, y_train)\n",
        "\n",
        "# Make predictions with Random Forest\n",
        "y_pred_rf = clf_rf3.predict(X_test)\n",
        "\n",
        "# Evaluate Random Forest model\n",
        "accuracy_rf = accuracy_score(y_test, y_pred_rf)\n",
        "print(f\"Random Forest Model 3 Accuracy: {accuracy_rf:.4f}\")\n"
      ],
      "metadata": {
        "colab": {
          "base_uri": "https://localhost:8080/"
        },
        "id": "h6T1Ure2jB_n",
        "outputId": "350a1e72-ca22-4a51-963e-a2c1a1e03a23"
      },
      "execution_count": 7,
      "outputs": [
        {
          "output_type": "stream",
          "name": "stdout",
          "text": [
            "Random Forest Model 2 Accuracy: 0.9906\n",
            "Random Forest Model 3 Accuracy: 0.9870\n"
          ]
        }
      ]
    },
    {
      "cell_type": "markdown",
      "source": [
        "# Xtreme Gradient Boost"
      ],
      "metadata": {
        "id": "PkorllSwHewd"
      }
    },
    {
      "cell_type": "markdown",
      "source": [
        "This code evaluates three variations of an XGBoost classifier, each with different hyperparameters. The first model (`clf_xgb1`) uses the default settings and achieves an accuracy of 0.9931. The second model (`clf_xgb2`) uses a lower learning rate of 0.03 and more estimators (300), resulting in an accuracy of 0.9911. The third model (`clf_xgb3`) applies a higher learning rate of 0.2 with fewer estimators (100), which yields an accuracy of 0.9899. These variations demonstrate the impact of tuning learning rate, the number of estimators, and tree depth on model performance."
      ],
      "metadata": {
        "id": "IVLtaCNjI2ll"
      }
    },
    {
      "cell_type": "code",
      "source": [
        "import xgboost as xgb\n",
        "\n",
        "# Train XGBoost model\n",
        "clf_xgb1 = xgb.XGBClassifier(eval_metric='logloss', random_state=42)\n",
        "clf_xgb1.fit(X_train, y_train)\n",
        "\n",
        "# Make predictions with XGBoost\n",
        "y_pred_xgb = clf_xgb1.predict(X_test)\n",
        "\n",
        "# Evaluate XGBoost model\n",
        "accuracy_xgb = accuracy_score(y_test, y_pred_xgb)\n",
        "print(f\"XGBoost Model 1 Accuracy: {accuracy_xgb:.4f}\")\n"
      ],
      "metadata": {
        "colab": {
          "base_uri": "https://localhost:8080/"
        },
        "id": "8oZAU_ddG3G7",
        "outputId": "6dee5dbc-7ffe-4934-934b-7a88239e59d4"
      },
      "execution_count": 8,
      "outputs": [
        {
          "output_type": "stream",
          "name": "stdout",
          "text": [
            "XGBoost Model 1 Accuracy: 0.9930\n"
          ]
        }
      ]
    },
    {
      "cell_type": "code",
      "source": [
        "# Variation 3: Lower learning rate with more estimators\n",
        "clf_xgb2 = xgb.XGBClassifier(n_estimators=300, learning_rate=0.03, max_depth=6, eval_metric='logloss', random_state=42)\n",
        "clf_xgb2.fit(X_train, y_train)\n",
        "# Make predictions with XGBoost\n",
        "y_pred_xgb = clf_xgb2.predict(X_test)\n",
        "\n",
        "# Evaluate XGBoost model\n",
        "accuracy_xgb = accuracy_score(y_test, y_pred_xgb)\n",
        "print(f\"XGBoost Model 2 Accuracy: {accuracy_xgb:.4f}\")\n",
        "\n",
        "# Variation 4: Higher learning rate with fewer estimators\n",
        "clf_xgb3 = xgb.XGBClassifier(n_estimators=100, learning_rate=0.2, max_depth=4, eval_metric='logloss', random_state=42)\n",
        "clf_xgb3.fit(X_train, y_train)\n",
        "# Make predictions with XGBoost\n",
        "y_pred_xgb = clf_xgb3.predict(X_test)\n",
        "\n",
        "# Evaluate XGBoost model\n",
        "accuracy_xgb = accuracy_score(y_test, y_pred_xgb)\n",
        "print(f\"XGBoost Model 3 Accuracy: {accuracy_xgb:.4f}\")\n"
      ],
      "metadata": {
        "colab": {
          "base_uri": "https://localhost:8080/"
        },
        "id": "tR09OyqLj46A",
        "outputId": "30cb96c9-8d70-4e12-e215-c4dec8401c37"
      },
      "execution_count": 9,
      "outputs": [
        {
          "output_type": "stream",
          "name": "stdout",
          "text": [
            "XGBoost Model 2 Accuracy: 0.9908\n",
            "XGBoost Model 3 Accuracy: 0.9916\n"
          ]
        }
      ]
    },
    {
      "cell_type": "markdown",
      "source": [
        "# Neural Network"
      ],
      "metadata": {
        "id": "sN09Ka0UHkUP"
      }
    },
    {
      "cell_type": "markdown",
      "source": [
        "Neural Networks offer high accuracy by capturing complex patterns in data. The first model, a simple **three-layer feedforward network with ReLU activation**, achieved an impressive **0.9964 accuracy**. The second variation added **more hidden layers (150, 75, 30 neurons)**, maintaining the same accuracy. The third model replaced ReLU with a **tanh activation function** and slightly fewer neurons (100, 50), yielding identical performance (**0.9964 accuracy**), showing that different architectures can achieve similar results with proper tuning."
      ],
      "metadata": {
        "id": "pPPg3ReZIzCA"
      }
    },
    {
      "cell_type": "code",
      "source": [
        "import tensorflow as tf\n",
        "from tensorflow import keras\n",
        "\n",
        "# Define Neural Network model\n",
        "clf_nn1 = keras.Sequential([\n",
        "    keras.layers.Dense(16, activation='relu', input_shape=(3,)),  # Input layer with 3 features\n",
        "    keras.layers.Dense(8, activation='relu'),  # Hidden layer\n",
        "    keras.layers.Dense(1, activation='sigmoid')  # Output layer for binary classification\n",
        "])\n",
        "\n",
        "# Compile the model\n",
        "clf_nn1.compile(optimizer='adam', loss='binary_crossentropy', metrics=['accuracy'])\n",
        "\n",
        "# Train the model\n",
        "clf_nn1.fit(X_train, y_train, epochs=10, batch_size=32, validation_data=(X_test, y_test))\n",
        "\n",
        "# Evaluate the model\n",
        "loss, accuracy_nn = clf_nn1.evaluate(X_test, y_test)\n",
        "print(f\"Neural Network Model 1 Accuracy: {accuracy_nn:.4f}\")\n"
      ],
      "metadata": {
        "colab": {
          "base_uri": "https://localhost:8080/"
        },
        "id": "B3flRvi7HCUC",
        "outputId": "77195608-0ba1-405a-87ce-737ed281d3b2"
      },
      "execution_count": 10,
      "outputs": [
        {
          "output_type": "stream",
          "name": "stderr",
          "text": [
            "/usr/local/lib/python3.11/dist-packages/keras/src/layers/core/dense.py:87: UserWarning: Do not pass an `input_shape`/`input_dim` argument to a layer. When using Sequential models, prefer using an `Input(shape)` object as the first layer in the model instead.\n",
            "  super().__init__(activity_regularizer=activity_regularizer, **kwargs)\n"
          ]
        },
        {
          "output_type": "stream",
          "name": "stdout",
          "text": [
            "Epoch 1/10\n",
            "\u001b[1m1000/1000\u001b[0m \u001b[32m━━━━━━━━━━━━━━━━━━━━\u001b[0m\u001b[37m\u001b[0m \u001b[1m5s\u001b[0m 3ms/step - accuracy: 0.8137 - loss: 0.3829 - val_accuracy: 0.9803 - val_loss: 0.0716\n",
            "Epoch 2/10\n",
            "\u001b[1m1000/1000\u001b[0m \u001b[32m━━━━━━━━━━━━━━━━━━━━\u001b[0m\u001b[37m\u001b[0m \u001b[1m3s\u001b[0m 3ms/step - accuracy: 0.9831 - loss: 0.0617 - val_accuracy: 0.9891 - val_loss: 0.0418\n",
            "Epoch 3/10\n",
            "\u001b[1m1000/1000\u001b[0m \u001b[32m━━━━━━━━━━━━━━━━━━━━\u001b[0m\u001b[37m\u001b[0m \u001b[1m3s\u001b[0m 3ms/step - accuracy: 0.9887 - loss: 0.0396 - val_accuracy: 0.9936 - val_loss: 0.0321\n",
            "Epoch 4/10\n",
            "\u001b[1m1000/1000\u001b[0m \u001b[32m━━━━━━━━━━━━━━━━━━━━\u001b[0m\u001b[37m\u001b[0m \u001b[1m5s\u001b[0m 3ms/step - accuracy: 0.9921 - loss: 0.0317 - val_accuracy: 0.9902 - val_loss: 0.0300\n",
            "Epoch 5/10\n",
            "\u001b[1m1000/1000\u001b[0m \u001b[32m━━━━━━━━━━━━━━━━━━━━\u001b[0m\u001b[37m\u001b[0m \u001b[1m5s\u001b[0m 3ms/step - accuracy: 0.9928 - loss: 0.0275 - val_accuracy: 0.9946 - val_loss: 0.0237\n",
            "Epoch 6/10\n",
            "\u001b[1m1000/1000\u001b[0m \u001b[32m━━━━━━━━━━━━━━━━━━━━\u001b[0m\u001b[37m\u001b[0m \u001b[1m5s\u001b[0m 3ms/step - accuracy: 0.9938 - loss: 0.0240 - val_accuracy: 0.9949 - val_loss: 0.0217\n",
            "Epoch 7/10\n",
            "\u001b[1m1000/1000\u001b[0m \u001b[32m━━━━━━━━━━━━━━━━━━━━\u001b[0m\u001b[37m\u001b[0m \u001b[1m3s\u001b[0m 3ms/step - accuracy: 0.9929 - loss: 0.0235 - val_accuracy: 0.9927 - val_loss: 0.0227\n",
            "Epoch 8/10\n",
            "\u001b[1m1000/1000\u001b[0m \u001b[32m━━━━━━━━━━━━━━━━━━━━\u001b[0m\u001b[37m\u001b[0m \u001b[1m5s\u001b[0m 3ms/step - accuracy: 0.9924 - loss: 0.0211 - val_accuracy: 0.9937 - val_loss: 0.0193\n",
            "Epoch 9/10\n",
            "\u001b[1m1000/1000\u001b[0m \u001b[32m━━━━━━━━━━━━━━━━━━━━\u001b[0m\u001b[37m\u001b[0m \u001b[1m5s\u001b[0m 3ms/step - accuracy: 0.9939 - loss: 0.0198 - val_accuracy: 0.9956 - val_loss: 0.0168\n",
            "Epoch 10/10\n",
            "\u001b[1m1000/1000\u001b[0m \u001b[32m━━━━━━━━━━━━━━━━━━━━\u001b[0m\u001b[37m\u001b[0m \u001b[1m5s\u001b[0m 3ms/step - accuracy: 0.9949 - loss: 0.0182 - val_accuracy: 0.9944 - val_loss: 0.0172\n",
            "\u001b[1m250/250\u001b[0m \u001b[32m━━━━━━━━━━━━━━━━━━━━\u001b[0m\u001b[37m\u001b[0m \u001b[1m1s\u001b[0m 2ms/step - accuracy: 0.9949 - loss: 0.0180\n",
            "Neural Network Model 1 Accuracy: 0.9944\n"
          ]
        }
      ]
    },
    {
      "cell_type": "code",
      "source": [
        "from sklearn.neural_network import MLPClassifier\n",
        "\n",
        "# Variation 3: More hidden layers and different activation function\n",
        "clf_nn2 = MLPClassifier(hidden_layer_sizes=(150, 75, 30), activation='relu', max_iter=400, random_state=42)\n",
        "clf_nn2.fit(X_train, y_train)\n",
        "\n",
        "# Evaluate the model\n",
        "loss, accuracy_nn = clf_nn2.evaluate(X_test, y_test)\n",
        "print(f\"Neural Network Model 2 Accuracy: {accuracy_nn:.4f}\")\n",
        "\n",
        "# Variation 4: Using tanh activation function\n",
        "clf_nn3 = MLPClassifier(hidden_layer_sizes=(100, 50), activation='tanh', solver='adam', max_iter=300, random_state=42)\n",
        "clf_nn3.fit(X_train, y_train)\n",
        "\n",
        "# Evaluate the model\n",
        "loss, accuracy_nn = clf_nn3.evaluate(X_test, y_test)\n",
        "print(f\"Neural Network Model 3 Accuracy: {accuracy_nn:.4f}\")"
      ],
      "metadata": {
        "colab": {
          "base_uri": "https://localhost:8080/",
          "height": 216
        },
        "id": "c_VX3ALRh1jF",
        "outputId": "5fdbffd4-eccb-4c62-f331-c341f09d5737"
      },
      "execution_count": 17,
      "outputs": [
        {
          "output_type": "error",
          "ename": "AttributeError",
          "evalue": "'MLPClassifier' object has no attribute 'evaluate'",
          "traceback": [
            "\u001b[0;31m---------------------------------------------------------------------------\u001b[0m",
            "\u001b[0;31mAttributeError\u001b[0m                            Traceback (most recent call last)",
            "\u001b[0;32m<ipython-input-17-128fd11a6b6b>\u001b[0m in \u001b[0;36m<cell line: 0>\u001b[0;34m()\u001b[0m\n\u001b[1;32m      6\u001b[0m \u001b[0;34m\u001b[0m\u001b[0m\n\u001b[1;32m      7\u001b[0m \u001b[0;31m# Evaluate the model\u001b[0m\u001b[0;34m\u001b[0m\u001b[0;34m\u001b[0m\u001b[0m\n\u001b[0;32m----> 8\u001b[0;31m \u001b[0mloss\u001b[0m\u001b[0;34m,\u001b[0m \u001b[0maccuracy_nn\u001b[0m \u001b[0;34m=\u001b[0m \u001b[0mclf_nn2\u001b[0m\u001b[0;34m.\u001b[0m\u001b[0mevaluate\u001b[0m\u001b[0;34m(\u001b[0m\u001b[0mX_test\u001b[0m\u001b[0;34m,\u001b[0m \u001b[0my_test\u001b[0m\u001b[0;34m)\u001b[0m\u001b[0;34m\u001b[0m\u001b[0;34m\u001b[0m\u001b[0m\n\u001b[0m\u001b[1;32m      9\u001b[0m \u001b[0mprint\u001b[0m\u001b[0;34m(\u001b[0m\u001b[0;34mf\"Neural Network Model 2 Accuracy: {accuracy_nn:.4f}\"\u001b[0m\u001b[0;34m)\u001b[0m\u001b[0;34m\u001b[0m\u001b[0;34m\u001b[0m\u001b[0m\n\u001b[1;32m     10\u001b[0m \u001b[0;34m\u001b[0m\u001b[0m\n",
            "\u001b[0;31mAttributeError\u001b[0m: 'MLPClassifier' object has no attribute 'evaluate'"
          ]
        }
      ]
    },
    {
      "cell_type": "markdown",
      "source": [
        "# Support Vector Machines"
      ],
      "metadata": {
        "id": "RnMvCjVgNinC"
      }
    },
    {
      "cell_type": "markdown",
      "source": [
        "The SVM models evaluated here include three variations. The first model (`clf_svm1`) uses the radial basis function (RBF) kernel with default parameters and achieves an accuracy of 0.9944. The second model (`clf_svm2`) also uses the RBF kernel but with a higher penalty parameter `C=2`, and a scaled gamma value, improving the accuracy to 0.9956. The third model (`clf_svm3`) employs a polynomial kernel of degree 3, but its accuracy drops to 0.5904, indicating that the choice of kernel significantly impacts the model's performance."
      ],
      "metadata": {
        "id": "NKDj0j22NmHg"
      }
    },
    {
      "cell_type": "code",
      "source": [
        "from sklearn.svm import SVC\n",
        "\n",
        "# Train SVM model\n",
        "clf_svm1 = SVC(kernel='rbf', random_state=42)\n",
        "clf_svm1.fit(X_train, y_train)\n",
        "\n",
        "# Make predictions with SVM\n",
        "y_pred_svm = clf_svm1.predict(X_test)\n",
        "\n",
        "# Evaluate SVM model\n",
        "accuracy_svm = accuracy_score(y_test, y_pred_svm)\n",
        "print(f\"SVM Model 1 Accuracy: {accuracy_svm:.4f}\")\n"
      ],
      "metadata": {
        "colab": {
          "base_uri": "https://localhost:8080/"
        },
        "id": "cLrACZ-SHRvj",
        "outputId": "e71fc8ba-24e0-4151-b703-c1ad60566c40"
      },
      "execution_count": 12,
      "outputs": [
        {
          "output_type": "stream",
          "name": "stdout",
          "text": [
            "SVM Model 1 Accuracy: 0.9962\n"
          ]
        }
      ]
    },
    {
      "cell_type": "code",
      "source": [
        "\n",
        "# Variation 2: SVM with RBF kernel and adjusted C\n",
        "clf_svm2 = SVC(kernel='rbf', C=2, gamma='scale', probability=True, random_state=42)\n",
        "clf_svm2.fit(X_train, y_train)\n",
        "# Make predictions with SVM\n",
        "y_pred_svm = clf_svm2.predict(X_test)\n",
        "\n",
        "# Evaluate SVM model\n",
        "accuracy_svm = accuracy_score(y_test, y_pred_svm)\n",
        "print(f\"SVM Model 2 Accuracy: {accuracy_svm:.4f}\")\n",
        "\n",
        "# Variation 3: SVM with polynomial kernel\n",
        "clf_svm3 = SVC(kernel='poly', degree=3, probability=True, random_state=42)\n",
        "clf_svm3.fit(X_train, y_train)\n",
        "# Make predictions with SVM\n",
        "y_pred_svm = clf_svm3.predict(X_test)\n",
        "\n",
        "# Evaluate SVM model\n",
        "accuracy_svm = accuracy_score(y_test, y_pred_svm)\n",
        "print(f\"SVM Model 3 Accuracy: {accuracy_svm:.4f}\")"
      ],
      "metadata": {
        "colab": {
          "base_uri": "https://localhost:8080/"
        },
        "id": "ZwRB_7zLmlcO",
        "outputId": "d488dd9e-c77a-42f1-9628-db233f519090"
      },
      "execution_count": 13,
      "outputs": [
        {
          "output_type": "stream",
          "name": "stdout",
          "text": [
            "SVM Model 2 Accuracy: 0.9969\n",
            "SVM Model 3 Accuracy: 0.6085\n"
          ]
        }
      ]
    },
    {
      "cell_type": "markdown",
      "source": [
        "# KNN"
      ],
      "metadata": {
        "id": "d3rdZBtNNsUY"
      }
    },
    {
      "cell_type": "markdown",
      "source": [
        "The K-Nearest Neighbors (KNN) models consist of three variations. The first model (`clf_knn1`) uses 3 neighbors, achieving an accuracy of 0.9866. The second model (`clf_knn2`) increases the number of neighbors to 5 and applies distance weighting, resulting in a slight improvement with an accuracy of 0.9874. The third model (`clf_knn3`) uses 7 neighbors and the Manhattan distance metric, yielding the highest accuracy of 0.9886, indicating that both the number of neighbors and the distance metric influence the model's performance."
      ],
      "metadata": {
        "id": "2PYb7vFuNt8z"
      }
    },
    {
      "cell_type": "code",
      "source": [
        "from sklearn.neighbors import KNeighborsClassifier\n",
        "\n",
        "# Train K-Nearest Neighbors (KNN) model\n",
        "clf_knn1 = KNeighborsClassifier(n_neighbors=3)  # Using 5 neighbors\n",
        "clf_knn1.fit(X_train, y_train)\n",
        "\n",
        "# Make predictions with KNN\n",
        "y_pred_knn = clf_knn1.predict(X_test)\n",
        "\n",
        "# Evaluate KNN model\n",
        "accuracy_knn = accuracy_score(y_test, y_pred_knn)\n",
        "print(f\"KNN Model 1 Accuracy: {accuracy_knn:.4f}\")\n"
      ],
      "metadata": {
        "colab": {
          "base_uri": "https://localhost:8080/"
        },
        "id": "HUfWtVMSNhgL",
        "outputId": "e99032b8-d7ad-40fc-f616-a4d8d4e25d07"
      },
      "execution_count": 14,
      "outputs": [
        {
          "output_type": "stream",
          "name": "stdout",
          "text": [
            "KNN Model 1 Accuracy: 0.9871\n"
          ]
        }
      ]
    },
    {
      "cell_type": "code",
      "source": [
        "# Variation 2: KNN with k=5 and distance weighting\n",
        "clf_knn2 = KNeighborsClassifier(n_neighbors=5, weights='distance')\n",
        "clf_knn2.fit(X_train, y_train)\n",
        "\n",
        "# Make predictions with KNN\n",
        "y_pred_knn = clf_knn2.predict(X_test)\n",
        "\n",
        "# Evaluate KNN model\n",
        "accuracy_knn = accuracy_score(y_test, y_pred_knn)\n",
        "print(f\"KNN Model 2 Accuracy: {accuracy_knn:.4f}\")\n",
        "\n",
        "# Variation 3: KNN with k=7 and different distance metric (Manhattan)\n",
        "clf_knn3 = KNeighborsClassifier(n_neighbors=7, metric='manhattan')\n",
        "clf_knn3.fit(X_train, y_train)\n",
        "# Make predictions with KNN\n",
        "y_pred_knn = clf_knn3.predict(X_test)\n",
        "\n",
        "# Evaluate KNN model\n",
        "accuracy_knn = accuracy_score(y_test, y_pred_knn)\n",
        "print(f\"KNN Model 3 Accuracy: {accuracy_knn:.4f}\")"
      ],
      "metadata": {
        "colab": {
          "base_uri": "https://localhost:8080/"
        },
        "id": "D2wYUUkxNzqz",
        "outputId": "157ed8e2-91fe-4f63-9039-50a7a1f41b46"
      },
      "execution_count": 15,
      "outputs": [
        {
          "output_type": "stream",
          "name": "stdout",
          "text": [
            "KNN Model 2 Accuracy: 0.9885\n",
            "KNN Model 3 Accuracy: 0.9885\n"
          ]
        }
      ]
    },
    {
      "cell_type": "markdown",
      "source": [
        "# Metrics"
      ],
      "metadata": {
        "id": "KcrHZhUPowHc"
      }
    },
    {
      "cell_type": "markdown",
      "source": [
        "Metrics for all models except NN"
      ],
      "metadata": {
        "id": "viSd0RPIyn5S"
      }
    },
    {
      "cell_type": "code",
      "source": [
        "from sklearn.metrics import accuracy_score, precision_score, recall_score, f1_score, roc_auc_score, confusion_matrix\n",
        "import pandas as pd\n",
        "\n",
        "# Function to calculate metrics for each model\n",
        "def calculate_metrics(model, X_test, y_test):\n",
        "    # Get predictions\n",
        "    y_pred = model.predict(X_test)\n",
        "\n",
        "    # Calculate metrics\n",
        "    accuracy = accuracy_score(y_test, y_pred)\n",
        "    precision = precision_score(y_test, y_pred)\n",
        "    recall = recall_score(y_test, y_pred)\n",
        "    f1 = f1_score(y_test, y_pred)\n",
        "\n",
        "    # ROC AUC (only applicable for binary classification models)\n",
        "    try:\n",
        "        auc = roc_auc_score(y_test, model.predict_proba(X_test)[:, 1])\n",
        "    except:\n",
        "        auc = \"N/A\"  # If AUC is not available (e.g., for models not supporting `predict_proba`)\n",
        "\n",
        "    # Return all metrics\n",
        "    return accuracy, precision, recall, f1, auc\n",
        "\n",
        "# Function to create a DataFrame to store results\n",
        "def create_metrics_table(models, X_test, y_test):\n",
        "    model_names = []\n",
        "    accuracies = []\n",
        "    precisions = []\n",
        "    recalls = []\n",
        "    f1_scores = []\n",
        "    auc_scores = []\n",
        "\n",
        "    # Loop over all models\n",
        "    for model in models:\n",
        "        model_names.append(model.__class__.__name__)  # Get model type (e.g., 'XGBClassifier')\n",
        "        print(model)\n",
        "        accuracy, precision, recall, f1, auc = calculate_metrics(model, X_test, y_test)\n",
        "        accuracies.append(accuracy)\n",
        "        precisions.append(precision)\n",
        "        recalls.append(recall)\n",
        "        f1_scores.append(f1)\n",
        "        auc_scores.append(auc)\n",
        "\n",
        "    # Create DataFrame\n",
        "    metrics_df = pd.DataFrame({\n",
        "        'Model': model_names,\n",
        "        'Accuracy': accuracies,\n",
        "        'Precision': precisions,\n",
        "        'Recall': recalls,\n",
        "        'F1 Score': f1_scores,\n",
        "        'AUC': auc_scores\n",
        "    })\n",
        "\n",
        "    return metrics_df\n",
        "\n",
        "# List your models for each group\n",
        "dt_models = [clf_dt1, clf_dt2, clf_dt3]\n",
        "knn_models = [clf_knn1, clf_knn2, clf_knn3]\n",
        "svm_models = [clf_svm1, clf_svm2, clf_svm3]\n",
        "rf_models = [clf_rf1, clf_rf2, clf_rf3]\n",
        "xgb_models = [clf_xgb1, clf_xgb2, clf_xgb3]\n",
        "nn_models = [clf_nn1, clf_nn2, clf_nn3]\n",
        "lr_models = [clf_lr1, clf_lr2, clf_lr3]\n",
        "\n",
        "# Calculate metrics for each group of models\n",
        "dt_metrics = create_metrics_table(dt_models, X_test, y_test)\n",
        "knn_metrics = create_metrics_table(knn_models, X_test, y_test)\n",
        "svm_metrics = create_metrics_table(svm_models, X_test, y_test)\n",
        "rf_metrics = create_metrics_table(rf_models, X_test, y_test)\n",
        "xgb_metrics = create_metrics_table(xgb_models, X_test, y_test)\n",
        "# nn_metrics = create_metrics_table(nn_models, X_test, y_test)\n",
        "lr_metrics = create_metrics_table(lr_models, X_test, y_test)\n",
        "\n",
        "# Display results for each model group\n",
        "print(\"Decision Trees Metrics\")\n",
        "print(dt_metrics)\n",
        "print(\"\\nKNN Metrics\")\n",
        "print(knn_metrics)\n",
        "print(\"\\nSVM Metrics\")\n",
        "print(svm_metrics)\n",
        "print(\"\\nRandom Forest Metrics\")\n",
        "print(rf_metrics)\n",
        "print(\"\\nXGBoost Metrics\")\n",
        "print(xgb_metrics)\n",
        "# print(\"\\nNeural Network Metrics\")\n",
        "# print(nn_metrics)\n",
        "print(\"\\nLogistic Regression Metrics\")\n",
        "print(lr_metrics)\n"
      ],
      "metadata": {
        "colab": {
          "base_uri": "https://localhost:8080/"
        },
        "id": "dTSu3bmEoUc0",
        "outputId": "15383d1e-4704-4447-b9df-30185f9fa161"
      },
      "execution_count": 16,
      "outputs": [
        {
          "output_type": "stream",
          "name": "stdout",
          "text": [
            "DecisionTreeClassifier()\n",
            "DecisionTreeClassifier(max_depth=15, min_samples_leaf=5, random_state=42)\n",
            "DecisionTreeClassifier(criterion='entropy', max_depth=10, random_state=42)\n",
            "KNeighborsClassifier(n_neighbors=3)\n",
            "KNeighborsClassifier(weights='distance')\n",
            "KNeighborsClassifier(metric='manhattan', n_neighbors=7)\n",
            "SVC(random_state=42)\n",
            "SVC(C=2, probability=True, random_state=42)\n",
            "SVC(kernel='poly', probability=True, random_state=42)\n"
          ]
        },
        {
          "output_type": "stream",
          "name": "stderr",
          "text": [
            "/usr/local/lib/python3.11/dist-packages/sklearn/metrics/_classification.py:1565: UndefinedMetricWarning: Precision is ill-defined and being set to 0.0 due to no predicted samples. Use `zero_division` parameter to control this behavior.\n",
            "  _warn_prf(average, modifier, f\"{metric.capitalize()} is\", len(result))\n"
          ]
        },
        {
          "output_type": "stream",
          "name": "stdout",
          "text": [
            "RandomForestClassifier(random_state=42)\n",
            "RandomForestClassifier(max_depth=20, n_estimators=300, random_state=42)\n",
            "RandomForestClassifier(max_depth=10, min_samples_split=10, n_estimators=200,\n",
            "                       random_state=42)\n",
            "XGBClassifier(base_score=None, booster=None, callbacks=None,\n",
            "              colsample_bylevel=None, colsample_bynode=None,\n",
            "              colsample_bytree=None, device=None, early_stopping_rounds=None,\n",
            "              enable_categorical=False, eval_metric='logloss',\n",
            "              feature_types=None, gamma=None, grow_policy=None,\n",
            "              importance_type=None, interaction_constraints=None,\n",
            "              learning_rate=None, max_bin=None, max_cat_threshold=None,\n",
            "              max_cat_to_onehot=None, max_delta_step=None, max_depth=None,\n",
            "              max_leaves=None, min_child_weight=None, missing=nan,\n",
            "              monotone_constraints=None, multi_strategy=None, n_estimators=None,\n",
            "              n_jobs=None, num_parallel_tree=None, random_state=42, ...)\n",
            "XGBClassifier(base_score=None, booster=None, callbacks=None,\n",
            "              colsample_bylevel=None, colsample_bynode=None,\n",
            "              colsample_bytree=None, device=None, early_stopping_rounds=None,\n",
            "              enable_categorical=False, eval_metric='logloss',\n",
            "              feature_types=None, gamma=None, grow_policy=None,\n",
            "              importance_type=None, interaction_constraints=None,\n",
            "              learning_rate=0.03, max_bin=None, max_cat_threshold=None,\n",
            "              max_cat_to_onehot=None, max_delta_step=None, max_depth=6,\n",
            "              max_leaves=None, min_child_weight=None, missing=nan,\n",
            "              monotone_constraints=None, multi_strategy=None, n_estimators=300,\n",
            "              n_jobs=None, num_parallel_tree=None, random_state=42, ...)\n",
            "XGBClassifier(base_score=None, booster=None, callbacks=None,\n",
            "              colsample_bylevel=None, colsample_bynode=None,\n",
            "              colsample_bytree=None, device=None, early_stopping_rounds=None,\n",
            "              enable_categorical=False, eval_metric='logloss',\n",
            "              feature_types=None, gamma=None, grow_policy=None,\n",
            "              importance_type=None, interaction_constraints=None,\n",
            "              learning_rate=0.2, max_bin=None, max_cat_threshold=None,\n",
            "              max_cat_to_onehot=None, max_delta_step=None, max_depth=4,\n",
            "              max_leaves=None, min_child_weight=None, missing=nan,\n",
            "              monotone_constraints=None, multi_strategy=None, n_estimators=100,\n",
            "              n_jobs=None, num_parallel_tree=None, random_state=42, ...)\n",
            "LogisticRegression()\n",
            "LogisticRegression(C=0.5, penalty='l1', random_state=42, solver='liblinear')\n",
            "LogisticRegression(C=0.1, random_state=42)\n",
            "Decision Trees Metrics\n",
            "                    Model  Accuracy  Precision    Recall  F1 Score       AUC\n",
            "0  DecisionTreeClassifier  0.984125   0.979879  0.979566  0.979722  0.983312\n",
            "1  DecisionTreeClassifier  0.982750   0.979500  0.976373  0.977934  0.991586\n",
            "2  DecisionTreeClassifier  0.979000   0.972275  0.974138  0.973206  0.989687\n",
            "\n",
            "KNN Metrics\n",
            "                  Model  Accuracy  Precision    Recall  F1 Score       AUC\n",
            "0  KNeighborsClassifier  0.987125   0.983711  0.983397  0.983554  0.997529\n",
            "1  KNeighborsClassifier  0.988500   0.986244  0.984355  0.985299  0.998976\n",
            "2  KNeighborsClassifier  0.988500   0.986556  0.984036  0.985294  0.999493\n",
            "\n",
            "SVM Metrics\n",
            "  Model  Accuracy  Precision    Recall  F1 Score       AUC\n",
            "0   SVC  0.996250   0.997434  0.992976  0.995200       N/A\n",
            "1   SVC  0.996875   0.996484  0.995530  0.996007  0.999958\n",
            "2   SVC  0.608500   0.000000  0.000000  0.000000  0.493837\n",
            "\n",
            "Random Forest Metrics\n",
            "                    Model  Accuracy  Precision    Recall  F1 Score       AUC\n",
            "0  RandomForestClassifier  0.990750   0.989123  0.987229  0.988175  0.999694\n",
            "1  RandomForestClassifier  0.990625   0.989747  0.986271  0.988006  0.999697\n",
            "2  RandomForestClassifier  0.987000   0.982166  0.984674  0.983418  0.999419\n",
            "\n",
            "XGBoost Metrics\n",
            "           Model  Accuracy  Precision    Recall  F1 Score       AUC\n",
            "0  XGBClassifier  0.993000   0.991060  0.991060  0.991060  0.999816\n",
            "1  XGBClassifier  0.990750   0.986943  0.989464  0.988202  0.999748\n",
            "2  XGBClassifier  0.991625   0.987591  0.991060  0.989323  0.999757\n",
            "\n",
            "Logistic Regression Metrics\n",
            "                Model  Accuracy  Precision  Recall  F1 Score       AUC\n",
            "0  LogisticRegression    0.6085        0.0     0.0       0.0  0.498288\n",
            "1  LogisticRegression    0.6085        0.0     0.0       0.0  0.498342\n",
            "2  LogisticRegression    0.6085        0.0     0.0       0.0  0.498288\n"
          ]
        },
        {
          "output_type": "stream",
          "name": "stderr",
          "text": [
            "/usr/local/lib/python3.11/dist-packages/sklearn/metrics/_classification.py:1565: UndefinedMetricWarning: Precision is ill-defined and being set to 0.0 due to no predicted samples. Use `zero_division` parameter to control this behavior.\n",
            "  _warn_prf(average, modifier, f\"{metric.capitalize()} is\", len(result))\n",
            "/usr/local/lib/python3.11/dist-packages/sklearn/metrics/_classification.py:1565: UndefinedMetricWarning: Precision is ill-defined and being set to 0.0 due to no predicted samples. Use `zero_division` parameter to control this behavior.\n",
            "  _warn_prf(average, modifier, f\"{metric.capitalize()} is\", len(result))\n",
            "/usr/local/lib/python3.11/dist-packages/sklearn/metrics/_classification.py:1565: UndefinedMetricWarning: Precision is ill-defined and being set to 0.0 due to no predicted samples. Use `zero_division` parameter to control this behavior.\n",
            "  _warn_prf(average, modifier, f\"{metric.capitalize()} is\", len(result))\n"
          ]
        }
      ]
    },
    {
      "cell_type": "markdown",
      "source": [
        "Metrics for NN"
      ],
      "metadata": {
        "id": "Nqlknw13yrn7"
      }
    },
    {
      "cell_type": "code",
      "source": [
        "from sklearn.metrics import accuracy_score, precision_score, recall_score, f1_score, roc_auc_score\n",
        "import pandas as pd\n",
        "import numpy as np\n",
        "\n",
        "# Function to calculate metrics for neural networks\n",
        "def calculate_nn_metrics(model, X_test, y_test):\n",
        "    # Get predictions (Neural Networks usually return probabilities)\n",
        "    y_prob = model.predict(X_test)  # Assuming output is probability scores\n",
        "\n",
        "    # Convert probabilities to binary class labels (assuming binary classification)\n",
        "    y_pred = np.where(y_prob >= 0.5, 1, 0)\n",
        "\n",
        "    # Calculate metrics\n",
        "    accuracy = accuracy_score(y_test, y_pred)\n",
        "    precision = precision_score(y_test, y_pred)\n",
        "    recall = recall_score(y_test, y_pred)\n",
        "    f1 = f1_score(y_test, y_pred)\n",
        "\n",
        "    # ROC AUC Score\n",
        "    try:\n",
        "        auc = roc_auc_score(y_test, y_prob)\n",
        "    except:\n",
        "        auc = \"N/A\"  # If AUC is not available\n",
        "\n",
        "    return accuracy, precision, recall, f1, auc\n",
        "\n",
        "# Function to create DataFrame for Neural Network metrics\n",
        "def create_nn_metrics_table(models, X_test, y_test):\n",
        "    model_names = []\n",
        "    accuracies = []\n",
        "    precisions = []\n",
        "    recalls = []\n",
        "    f1_scores = []\n",
        "    auc_scores = []\n",
        "\n",
        "    for model in models:\n",
        "        model_names.append(model.__class__.__name__)  # Get model name\n",
        "        accuracy, precision, recall, f1, auc = calculate_nn_metrics(model, X_test, y_test)\n",
        "        accuracies.append(accuracy)\n",
        "        precisions.append(precision)\n",
        "        recalls.append(recall)\n",
        "        f1_scores.append(f1)\n",
        "        auc_scores.append(auc)\n",
        "\n",
        "    # Create DataFrame\n",
        "    nn_metrics_df = pd.DataFrame({\n",
        "        'Model': model_names,\n",
        "        'Accuracy': accuracies,\n",
        "        'Precision': precisions,\n",
        "        'Recall': recalls,\n",
        "        'F1 Score': f1_scores,\n",
        "        'AUC': auc_scores\n",
        "    })\n",
        "\n",
        "    return nn_metrics_df\n",
        "\n",
        "# Neural Network models list\n",
        "nn_models = [clf_nn1, clf_nn2, clf_nn3]\n",
        "\n",
        "# Calculate and display NN metrics\n",
        "nn_metrics = create_nn_metrics_table(nn_models, X_test, y_test)\n",
        "\n",
        "print(\"Neural Network Metrics\")\n",
        "print(nn_metrics)\n"
      ],
      "metadata": {
        "colab": {
          "base_uri": "https://localhost:8080/"
        },
        "id": "DT238U5yousd",
        "outputId": "e7e80772-9ae9-4d20-81f9-e6b3a443fbd1"
      },
      "execution_count": 18,
      "outputs": [
        {
          "output_type": "stream",
          "name": "stdout",
          "text": [
            "\u001b[1m250/250\u001b[0m \u001b[32m━━━━━━━━━━━━━━━━━━━━\u001b[0m\u001b[37m\u001b[0m \u001b[1m1s\u001b[0m 2ms/step\n",
            "Neural Network Metrics\n",
            "           Model  Accuracy  Precision    Recall  F1 Score       AUC\n",
            "0     Sequential  0.994375   0.999030  0.986590  0.992771  0.999925\n",
            "1  MLPClassifier  0.991500   0.979649  0.999042  0.989251  0.992845\n",
            "2  MLPClassifier  0.997125   0.993335  0.999361  0.996339  0.997524\n"
          ]
        }
      ]
    },
    {
      "cell_type": "markdown",
      "source": [
        "Barplot for comparsion"
      ],
      "metadata": {
        "id": "7TWfFum_yuCf"
      }
    },
    {
      "cell_type": "code",
      "source": [
        "import matplotlib.pyplot as plt\n",
        "import seaborn as sns\n",
        "\n",
        "\n",
        "# Model names and corresponding accuracy values for best performing models\n",
        "models = [\"Decision Tree\", \"KNN\", \"SVM\", \"Random Forest\", \"XGBoost\", \"Logistic Regression\", \"Neural Networks\"]\n",
        "accuracies = [0.9816, 0.9886, 0.9944, 0.9901, 0.9931, 0.6085, 0.9971]\n",
        "\n",
        "# Create bar plot\n",
        "plt.figure(figsize=(8,5))\n",
        "sns.barplot(x=models, y=accuracies, palette=\"viridis\")\n",
        "plt.xticks(rotation=45)\n",
        "plt.xlabel(\"Models\")\n",
        "plt.ylabel(\"Accuracy\")\n",
        "plt.title(\"Model Accuracy Comparison\")\n",
        "plt.ylim(0.5, 1.0)  # Set limit for better visibility\n",
        "plt.show()\n"
      ],
      "metadata": {
        "colab": {
          "base_uri": "https://localhost:8080/",
          "height": 666
        },
        "id": "4XrMk7aRsDNs",
        "outputId": "c58b2fe8-fdb5-4eb4-ac8c-135cb89c9808"
      },
      "execution_count": 20,
      "outputs": [
        {
          "output_type": "stream",
          "name": "stderr",
          "text": [
            "<ipython-input-20-a082f1e15e1c>:11: FutureWarning: \n",
            "\n",
            "Passing `palette` without assigning `hue` is deprecated and will be removed in v0.14.0. Assign the `x` variable to `hue` and set `legend=False` for the same effect.\n",
            "\n",
            "  sns.barplot(x=models, y=accuracies, palette=\"viridis\")\n"
          ]
        },
        {
          "output_type": "display_data",
          "data": {
            "text/plain": [
              "<Figure size 800x500 with 1 Axes>"
            ],
            "image/png": "[encoded data removed]"
          },
          "metadata": {}
        }
      ]
    },
    {
      "cell_type": "markdown",
      "source": [
        "Heatmap for comparison of different configurations"
      ],
      "metadata": {
        "id": "iLwihxZ5zPxJ"
      }
    },
    {
      "cell_type": "code",
      "source": [
        "import numpy as np\n",
        "\n",
        "# Define model names and performance metrics (replace with actual values)\n",
        "models = [\"Decision Tree\", \"KNN\", \"SVM\", \"Random Forest\", \"XGBoost\", \"Logistic Regression\", \"Neural Network\"]\n",
        "metrics = [\"Accuracy\", \"Precision\", \"Recall\", \"F1 Score\"]\n",
        "\n",
        "performance = np.array([\n",
        "    [0.9816, 0.9786, 0.9765, 0.9775],\n",
        "    [0.9886, 0.9848, 0.9875, 0.9861],\n",
        "    [0.9944, 0.9957, 0.9905, 0.9931],\n",
        "    [0.9901, 0.9872, 0.9887, 0.9879],\n",
        "    [0.9931, 0.9900, 0.9933, 0.9916],\n",
        "    [0.6085, 0.0, 0.0, 0.0],\n",
        "    [0.9971, 0.9933, 0.9994, 0.9963]\n",
        "])\n",
        "\n",
        "# Create a heatmap\n",
        "plt.figure(figsize=(8, 6))\n",
        "sns.heatmap(performance, annot=True, cmap=\"coolwarm\", xticklabels=metrics, yticklabels=models, fmt=\".4f\")\n",
        "plt.xlabel(\"Evaluation Metrics\")\n",
        "plt.ylabel(\"Models\")\n",
        "plt.title(\"Heatmap of Model Performance\")\n",
        "plt.show()\n"
      ],
      "metadata": {
        "colab": {
          "base_uri": "https://localhost:8080/",
          "height": 564
        },
        "id": "4dJKnB2iyL6w",
        "outputId": "a1a48a06-802d-445c-8ae1-879c3c8aeb78"
      },
      "execution_count": 22,
      "outputs": [
        {
          "output_type": "display_data",
          "data": {
            "text/plain": [
              "<Figure size 800x600 with 2 Axes>"
            ],
            "image/png": "[encoded data removed]"
          },
          "metadata": {}
        }
      ]
    },
    {
      "cell_type": "code",
      "source": [],
      "metadata": {
        "id": "QKS7LrqLzJ5S"
      },
      "execution_count": null,
      "outputs": []
    }
  ]
}